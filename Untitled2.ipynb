{
  "nbformat": 4,
  "nbformat_minor": 0,
  "metadata": {
    "colab": {
      "provenance": [],
      "authorship_tag": "ABX9TyORbiDiUIkPDtinMi09bD6Z",
      "include_colab_link": true
    },
    "kernelspec": {
      "name": "python3",
      "display_name": "Python 3"
    },
    "language_info": {
      "name": "python"
    }
  },
  "cells": [
    {
      "cell_type": "markdown",
      "metadata": {
        "id": "view-in-github",
        "colab_type": "text"
      },
      "source": [
        "<a href=\"https://colab.research.google.com/github/kishan20-00/Simple-CNN2/blob/main/Untitled2.ipynb\" target=\"_parent\"><img src=\"https://colab.research.google.com/assets/colab-badge.svg\" alt=\"Open In Colab\"/></a>"
      ]
    },
    {
      "cell_type": "code",
      "execution_count": 1,
      "metadata": {
        "colab": {
          "base_uri": "https://localhost:8080/"
        },
        "id": "YKl9IXN3rFQ4",
        "outputId": "f19b1ca4-a413-4a9f-ac4f-3efa88b811b5"
      },
      "outputs": [
        {
          "output_type": "stream",
          "name": "stdout",
          "text": [
            "Mounted at /content/drive\n"
          ]
        }
      ],
      "source": [
        "from google.colab import drive\n",
        "drive.mount('/content/drive')"
      ]
    },
    {
      "cell_type": "code",
      "source": [
        "%cd /content/drive/MyDrive/IRWA/Cat&Dog\\ Dataset/"
      ],
      "metadata": {
        "colab": {
          "base_uri": "https://localhost:8080/"
        },
        "id": "dfZdgWrC9wmh",
        "outputId": "96843228-41e7-4872-ddc5-f94487fc0182"
      },
      "execution_count": 2,
      "outputs": [
        {
          "output_type": "stream",
          "name": "stdout",
          "text": [
            "/content/drive/MyDrive/IRWA/Cat&Dog Dataset\n"
          ]
        }
      ]
    },
    {
      "cell_type": "markdown",
      "source": [
        "1. Acquire Data"
      ],
      "metadata": {
        "id": "1RivVF1LZja8"
      }
    },
    {
      "cell_type": "code",
      "source": [
        "train_path = 'Training_data'\n",
        "valid_path = 'Testing_data'"
      ],
      "metadata": {
        "id": "gHya6snzXCNi"
      },
      "execution_count": 11,
      "outputs": []
    },
    {
      "cell_type": "markdown",
      "source": [
        "2. Define the model"
      ],
      "metadata": {
        "id": "R9qP0jbOZoEF"
      }
    },
    {
      "cell_type": "code",
      "source": [
        "import tensorflow as tf\n",
        "from tensorflow import keras\n",
        "\n",
        "model = tf.keras.models.Sequential([\n",
        "    #Note the input shape is the desired size fo the image 300*300\n",
        "    tf.keras.layers.Conv2D(filters=16,kernel_size=3,activation='relu', input_shape=(300,300,3)),\n",
        "    tf.keras.layers.MaxPooling2D(2,2),\n",
        "\n",
        "    #The second convolution\n",
        "    tf.keras.layers.Conv2D(filters=16, kernel_size=3, activation='relu'),\n",
        "    tf.keras.layers.MaxPooling2D(pool_size=2),\n",
        "\n",
        "    #The third convolution\n",
        "    tf.keras.layers.Conv2D(filters=32,kernel_size=3, activation='relu'),\n",
        "    tf.keras.layers.MaxPooling2D(pool_size=2),\n",
        "\n",
        "    #The fourth convolution\n",
        "    tf.keras.layers.Conv2D(filters=64,kernel_size=3, activation='relu'),\n",
        "    tf.keras.layers.MaxPooling2D(pool_size=2),\n",
        "\n",
        "    #The fifth convolution\n",
        "    tf.keras.layers.Conv2D(filters=64,kernel_size=3, activation='relu'),\n",
        "    tf.keras.layers.MaxPooling2D(pool_size=2),\n",
        "\n",
        "    #Flatten the results to feed into a DNN\n",
        "    tf.keras.layers.Flatten(),\n",
        "\n",
        "    #512 neuron hidden layer\n",
        "    tf.keras.layers.Dense(512, activation='relu'),\n",
        "\n",
        "    #Only 1 output neuron. It will contain a value from 0-1\n",
        "    tf.keras.layers.Dense(1, activation='sigmoid')\n",
        "\n",
        "])\n",
        "\n"
      ],
      "metadata": {
        "id": "EURiIqvFXMmp"
      },
      "execution_count": 12,
      "outputs": []
    },
    {
      "cell_type": "code",
      "source": [
        "model.summary()"
      ],
      "metadata": {
        "colab": {
          "base_uri": "https://localhost:8080/"
        },
        "id": "lC4EhxQcnlzw",
        "outputId": "a36aaeca-17af-47de-95db-0620b7473770"
      },
      "execution_count": 14,
      "outputs": [
        {
          "output_type": "stream",
          "name": "stdout",
          "text": [
            "Model: \"sequential_1\"\n",
            "_________________________________________________________________\n",
            " Layer (type)                Output Shape              Param #   \n",
            "=================================================================\n",
            " conv2d_5 (Conv2D)           (None, 298, 298, 16)      448       \n",
            "                                                                 \n",
            " max_pooling2d_5 (MaxPooling  (None, 149, 149, 16)     0         \n",
            " 2D)                                                             \n",
            "                                                                 \n",
            " conv2d_6 (Conv2D)           (None, 147, 147, 16)      2320      \n",
            "                                                                 \n",
            " max_pooling2d_6 (MaxPooling  (None, 73, 73, 16)       0         \n",
            " 2D)                                                             \n",
            "                                                                 \n",
            " conv2d_7 (Conv2D)           (None, 71, 71, 32)        4640      \n",
            "                                                                 \n",
            " max_pooling2d_7 (MaxPooling  (None, 35, 35, 32)       0         \n",
            " 2D)                                                             \n",
            "                                                                 \n",
            " conv2d_8 (Conv2D)           (None, 33, 33, 64)        18496     \n",
            "                                                                 \n",
            " max_pooling2d_8 (MaxPooling  (None, 16, 16, 64)       0         \n",
            " 2D)                                                             \n",
            "                                                                 \n",
            " conv2d_9 (Conv2D)           (None, 14, 14, 64)        36928     \n",
            "                                                                 \n",
            " max_pooling2d_9 (MaxPooling  (None, 7, 7, 64)         0         \n",
            " 2D)                                                             \n",
            "                                                                 \n",
            " flatten_1 (Flatten)         (None, 3136)              0         \n",
            "                                                                 \n",
            " dense_2 (Dense)             (None, 512)               1606144   \n",
            "                                                                 \n",
            " dense_3 (Dense)             (None, 1)                 513       \n",
            "                                                                 \n",
            "=================================================================\n",
            "Total params: 1,669,489\n",
            "Trainable params: 1,669,489\n",
            "Non-trainable params: 0\n",
            "_________________________________________________________________\n"
          ]
        }
      ]
    },
    {
      "cell_type": "markdown",
      "source": [
        "3. Compile the model"
      ],
      "metadata": {
        "id": "Bas75vtNnySa"
      }
    },
    {
      "cell_type": "code",
      "source": [
        "from tensorflow.keras.optimizers import RMSprop\n",
        "model.compile(loss='binary_crossentropy',\n",
        "              optimizer=RMSprop(learning_rate=0.001),\n",
        "              metrics=['accuracy'])"
      ],
      "metadata": {
        "id": "gF1bVjMFnqKE"
      },
      "execution_count": 13,
      "outputs": []
    },
    {
      "cell_type": "markdown",
      "source": [
        "4. Train the model from generators"
      ],
      "metadata": {
        "id": "vDLnTcaKp5Ca"
      }
    },
    {
      "cell_type": "code",
      "source": [
        "from tensorflow.keras.preprocessing.image import ImageDataGenerator\n",
        "\n",
        "#All train images will be rescaled by 1./255\n",
        "train_datagen= ImageDataGenerator(rescale=1./255)\n",
        "\n",
        "#Flow training Images in batches of 128 using train_datagen generator\n",
        "train_generator = train_datagen.flow_from_directory(train_path,\n",
        "                                                    target_size=(300,300),\n",
        "                                                    batch_size=32,\n",
        "                                                    class_mode= 'binary')\n",
        "\n",
        "#All test images will be rescaled by 1./255\n",
        "test_datagen = ImageDataGenerator(rescale=1./255)\n",
        "\n",
        "#Apply predefined specification to test dataset\n",
        "test_set = test_datagen.flow_from_directory(valid_path,\n",
        "                                            target_size=(300,300),\n",
        "                                            batch_size= 32,\n",
        "                                            class_mode='binary')"
      ],
      "metadata": {
        "colab": {
          "base_uri": "https://localhost:8080/"
        },
        "id": "Emk7Q6LrpuJe",
        "outputId": "a7bedeee-63a1-4bf1-e3eb-21550479f7ce"
      },
      "execution_count": 15,
      "outputs": [
        {
          "output_type": "stream",
          "name": "stdout",
          "text": [
            "Found 633 images belonging to 2 classes.\n",
            "Found 200 images belonging to 2 classes.\n"
          ]
        }
      ]
    },
    {
      "cell_type": "markdown",
      "source": [
        "5. Training"
      ],
      "metadata": {
        "id": "z19yC2gRt6ew"
      }
    },
    {
      "cell_type": "code",
      "source": [
        "history = model.fit(\n",
        "    train_generator,\n",
        "    validation_data=test_set,\n",
        "    steps_per_epoch=8,\n",
        "    epochs=2\n",
        ")"
      ],
      "metadata": {
        "colab": {
          "base_uri": "https://localhost:8080/"
        },
        "id": "3JtBrlwZscqT",
        "outputId": "ec92bcfe-d160-4b42-a929-7fcff6ed3088"
      },
      "execution_count": 16,
      "outputs": [
        {
          "output_type": "stream",
          "name": "stdout",
          "text": [
            "Epoch 1/2\n",
            "8/8 [==============================] - 69s 9s/step - loss: 0.7118 - accuracy: 0.5195 - val_loss: 0.6925 - val_accuracy: 0.5000\n",
            "Epoch 2/2\n",
            "8/8 [==============================] - 27s 3s/step - loss: 0.6752 - accuracy: 0.6406 - val_loss: 0.6971 - val_accuracy: 0.5000\n"
          ]
        }
      ]
    },
    {
      "cell_type": "code",
      "source": [
        "model.save_weights('first_try.h5')"
      ],
      "metadata": {
        "id": "WnKItRe-uI-b"
      },
      "execution_count": 17,
      "outputs": []
    },
    {
      "cell_type": "code",
      "source": [
        "#plot variation in loss and accuracy\n",
        "import matplotlib.pyplot as plt\n",
        "\n",
        "plt.plot(history.history['loss'], label='train loss')\n",
        "plt.plot(history.history['val_accuracy'], label='val loss')\n",
        "plt.legend()\n",
        "plt.show()\n",
        "plt.savefig('LossVal_loss')\n",
        "\n",
        "plt.plot(history.history['accuracy'], label='train acc')\n",
        "plt.plot(history.history['val_accuracy'], label='val acc')\n",
        "plt.legend()\n",
        "plt.show()\n",
        "plt.savefig('AccVal_acc')"
      ],
      "metadata": {
        "colab": {
          "base_uri": "https://localhost:8080/",
          "height": 530
        },
        "id": "flqdhQ_0upCw",
        "outputId": "eb3330c5-b693-4296-ad8c-9a5a6dae0826"
      },
      "execution_count": 18,
      "outputs": [
        {
          "output_type": "display_data",
          "data": {
            "text/plain": [
              "<Figure size 432x288 with 1 Axes>"
            ],
            "image/png": "[encoded data removed]"
          },
          "metadata": {
            "needs_background": "light"
          }
        },
        {
          "output_type": "display_data",
          "data": {
            "text/plain": [
              "<Figure size 432x288 with 1 Axes>"
            ],
            "image/png": "[encoded data removed]"
          },
          "metadata": {
            "needs_background": "light"
          }
        },
        {
          "output_type": "display_data",
          "data": {
            "text/plain": [
              "<Figure size 432x288 with 0 Axes>"
            ]
          },
          "metadata": {}
        }
      ]
    },
    {
      "cell_type": "code",
      "source": [],
      "metadata": {
        "id": "yXUpfAOgxF6W"
      },
      "execution_count": null,
      "outputs": []
    }
  ]
}